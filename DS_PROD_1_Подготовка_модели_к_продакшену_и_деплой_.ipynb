{
  "nbformat": 4,
  "nbformat_minor": 0,
  "metadata": {
    "colab": {
      "provenance": [],
      "authorship_tag": "ABX9TyPtJD90D8XEQErGfCPCFTV8",
      "include_colab_link": true
    },
    "kernelspec": {
      "name": "python3",
      "display_name": "Python 3"
    },
    "language_info": {
      "name": "python"
    }
  },
  "cells": [
    {
      "cell_type": "markdown",
      "metadata": {
        "id": "view-in-github",
        "colab_type": "text"
      },
      "source": [
        "<a href=\"https://colab.research.google.com/github/AnnaLive2022/My-Data-Science-progects/blob/main/DS_PROD_1_%D0%9F%D0%BE%D0%B4%D0%B3%D0%BE%D1%82%D0%BE%D0%B2%D0%BA%D0%B0_%D0%BC%D0%BE%D0%B4%D0%B5%D0%BB%D0%B8_%D0%BA_%D0%BF%D1%80%D0%BE%D0%B4%D0%B0%D0%BA%D1%88%D0%B5%D0%BD%D1%83_%D0%B8_%D0%B4%D0%B5%D0%BF%D0%BB%D0%BE%D0%B9_.ipynb\" target=\"_parent\"><img src=\"https://colab.research.google.com/assets/colab-badge.svg\" alt=\"Open In Colab\"/></a>"
      ]
    },
    {
      "cell_type": "code",
      "execution_count": null,
      "metadata": {
        "id": "XU2k92aY2cU9"
      },
      "outputs": [],
      "source": [
        "import numpy as np #для матричных вычислений\n",
        "import pandas as pd #для анализа и предобработки данных\n",
        "import matplotlib.pyplot as plt #для визуализации\n",
        "import seaborn as sns #для визуализации\n",
        "\n",
        "from sklearn import linear_model #линейные модели\n",
        "from sklearn import metrics #метрики\n",
        "\n",
        "from sklearn.model_selection import train_test_split #сплитование выборки\n",
        "from sklearn import preprocessing #предобработка\n",
        "%matplotlib inline\n",
        "plt.style.use('seaborn')"
      ]
    },
    {
      "cell_type": "code",
      "source": [
        "# подключаем google диск, где у нас хранятся данные\n",
        "from google.colab import drive\n",
        "drive.mount('/content/drive')"
      ],
      "metadata": {
        "colab": {
          "base_uri": "https://localhost:8080/"
        },
        "id": "C7ay4yYE3Ux9",
        "outputId": "b132f6ad-b0a4-41dd-fd4d-e3a319ebcef0"
      },
      "execution_count": null,
      "outputs": [
        {
          "output_type": "stream",
          "name": "stdout",
          "text": [
            "Mounted at /content/drive\n"
          ]
        }
      ]
    },
    {
      "cell_type": "markdown",
      "source": [
        "после ************* для освежения в памяти"
      ],
      "metadata": {
        "id": "pbaJpgaa7mso"
      }
    },
    {
      "cell_type": "markdown",
      "source": [
        "**В модуле по очистке данных вы уже производили очистку этого набора данных:**\n",
        "\n",
        "удалили дубликаты,\n",
        "\n",
        "удалили неинформативный признак Gender,\n",
        "\n",
        "обработали «скрытые» пропуски в данных,\n",
        "\n",
        "избавились от потенциальных выбросов."
      ],
      "metadata": {
        "id": "r_ruyJpV34fg"
      }
    },
    {
      "cell_type": "code",
      "source": [
        "# Очищенный датасет\n",
        "diabetes_cleaned = pd.read_csv('/content/drive/MyDrive/data/diabetes_cleaned.csv')\n",
        "print(diabetes_cleaned.head(2))\n",
        "diabetes_cleaned.info()"
      ],
      "metadata": {
        "colab": {
          "base_uri": "https://localhost:8080/"
        },
        "id": "HfYpyuOi3Lee",
        "outputId": "ef61b1ca-9785-46ab-9b22-1c6bfba614e2"
      },
      "execution_count": null,
      "outputs": [
        {
          "output_type": "stream",
          "name": "stdout",
          "text": [
            "   Pregnancies  Glucose  BloodPressure  SkinThickness   BMI  \\\n",
            "0            6     98.0           58.0           33.0  34.0   \n",
            "1            2    112.0           75.0           32.0  35.7   \n",
            "\n",
            "   DiabetesPedigreeFunction  Age  Outcome  \n",
            "0                     0.430   43        0  \n",
            "1                     0.148   21        0  \n",
            "<class 'pandas.core.frame.DataFrame'>\n",
            "RangeIndex: 757 entries, 0 to 756\n",
            "Data columns (total 8 columns):\n",
            " #   Column                    Non-Null Count  Dtype  \n",
            "---  ------                    --------------  -----  \n",
            " 0   Pregnancies               757 non-null    int64  \n",
            " 1   Glucose                   757 non-null    float64\n",
            " 2   BloodPressure             757 non-null    float64\n",
            " 3   SkinThickness             757 non-null    float64\n",
            " 4   BMI                       757 non-null    float64\n",
            " 5   DiabetesPedigreeFunction  757 non-null    float64\n",
            " 6   Age                       757 non-null    int64  \n",
            " 7   Outcome                   757 non-null    int64  \n",
            "dtypes: float64(5), int64(3)\n",
            "memory usage: 47.4 KB\n"
          ]
        }
      ]
    },
    {
      "cell_type": "markdown",
      "source": [
        "**Напомним, какие признаки у нас есть:**\n",
        "\n",
        "Pregnancies — количество беременностей;\n",
        "\n",
        "Glucose — концентрация глюкозы в плазме через два часа при пероральном\n",
        "\n",
        "тесте на толерантность к глюкозе;\n",
        "\n",
        "BloodPressure — диастолическое артериальное давление (мм рт. ст.);\n",
        "\n",
        "SkinThickness — толщина кожной складки трицепса (мм);\n",
        "\n",
        "BMI — индекс массы тела (\\(вес \\ в \\ кг/(рост \\ в \\ м)^{2}\\));\n",
        "\n",
        "DiabetesPedigreeFunction — функция родословной диабета (чем она выше, темвыше шанс наследственной заболеваемости);\n",
        "\n",
        "Age — возраст;\n",
        "\n",
        "Outcome — наличие диабета (0 — нет, 1 — да), целевой признак."
      ],
      "metadata": {
        "id": "mx1Ad5se5UUM"
      }
    },
    {
      "cell_type": "code",
      "source": [],
      "metadata": {
        "id": "UNo-DmeB60NA"
      },
      "execution_count": null,
      "outputs": []
    },
    {
      "cell_type": "code",
      "source": [
        "# Давайте посмотрим на матрицу корреляций и выберем наиболее\n",
        "# коррелированные с целевым признаком факторы:\n",
        "\n",
        "fig, ax = plt.subplots(figsize = (8, 4))\n",
        "sns.heatmap(diabetes_cleaned.corr(), annot=True);\n"
      ],
      "metadata": {
        "colab": {
          "base_uri": "https://localhost:8080/",
          "height": 377
        },
        "id": "dg2KsdXq60P_",
        "outputId": "a7fd7ce8-ceb8-4a34-c261-a310c393c98b"
      },
      "execution_count": null,
      "outputs": [
        {
          "output_type": "display_data",
          "data": {
            "text/plain": [
              "<Figure size 576x288 with 2 Axes>"
            ],
            "image/png": "[encoded data removed]"
          },
          "metadata": {}
        }
      ]
    },
    {
      "cell_type": "markdown",
      "source": [
        "Вывод: Из строки Outcome видно, что наибольшей корреляцией с целевым признаком\n",
        "обладают факторы Glucose (уровень глюкозы) и BMI (индекс массы тела)."
      ],
      "metadata": {
        "id": "YYV1V5xe6_MB"
      }
    },
    {
      "cell_type": "code",
      "source": [
        "# Построим диаграмму рассеяния, по оси абсцисс отложим фактор Glucose, а по оси\n",
        "# ординат — BMI. Сделаем цветовую группировку по признаку наличия диабета:\n",
        "\n",
        "fig, ax = plt.subplots(figsize = (10, 5)) #фигура + координатная плоскость\n",
        "#Строим диаграмму рассеяния\n",
        "sns.scatterplot(\n",
        " data=diabetes_cleaned, #датасет \n",
        " x='Glucose', #ось абсцисс\n",
        " y='BMI', #ось ординат\n",
        " hue='Outcome', #группировка\n",
        " palette='seismic', #палитра\n",
        " ax=ax, #координатная плоскость\n",
        ");\n",
        "#Задаём название графику\n",
        "ax.set_title('Scatter Plot for Glucose VS BMI');\n"
      ],
      "metadata": {
        "colab": {
          "base_uri": "https://localhost:8080/",
          "height": 349
        },
        "id": "wKJsu6mv5oqh",
        "outputId": "4fcd71b5-197b-40b0-e37b-bff4331ab5f9"
      },
      "execution_count": null,
      "outputs": [
        {
          "output_type": "display_data",
          "data": {
            "text/plain": [
              "<Figure size 720x360 with 1 Axes>"
            ],
            "image/png": "[encoded data removed]"
          },
          "metadata": {}
        }
      ]
    },
    {
      "cell_type": "markdown",
      "source": [
        "Вывод по диаграме: Видно, что классы довольно сильно перемешаны, но красные точки, соответствующие пациентам с диабетом, преимущественно сгруппированы в\n",
        "правой части системы координат."
      ],
      "metadata": {
        "id": "MVKLmj7p6fw8"
      }
    },
    {
      "cell_type": "code",
      "source": [
        "# Для начала разделим выборку на матрицу наблюдений X, состоящую из двух\n",
        "# признаков, и столбец с правильным ответами y:\n",
        "#Создаём матрицу наблюдений X и столбец с ответами y\n",
        "X = diabetes_cleaned[['Glucose', 'BMI']]\n",
        "y = diabetes_cleaned['Outcome']"
      ],
      "metadata": {
        "id": "ycGy2RT06rEY"
      },
      "execution_count": null,
      "outputs": []
    },
    {
      "cell_type": "code",
      "source": [
        "перед ************* для освежения в памяти"
      ],
      "metadata": {
        "id": "oDhEc4bc7yOJ"
      },
      "execution_count": null,
      "outputs": []
    },
    {
      "cell_type": "markdown",
      "source": [
        "## **2. Сохранение и загрузка моделей: pickle и joblib**"
      ],
      "metadata": {
        "id": "jnJUPja1ZHCX"
      }
    },
    {
      "cell_type": "markdown",
      "source": [
        "### **ШАГ №1**\n",
        "\n",
        "Обучим модель линейной регрессии на встроенном датасете о диабете — Diabetes dataset."
      ],
      "metadata": {
        "id": "bl8zKpBH8iEa"
      }
    },
    {
      "cell_type": "markdown",
      "source": [
        "В данном датасете представлены десять исходных признаков: возраст, пол, индекс массы тела, среднее артериальное давление и шесть измерений сыворотки крови были получены для каждого из 442 пациентов с сахарным диабетом. Интерес представляет количественный показатель прогресса заболевания, замеренный через год после исходного измерения. Тип задачи — регрессия."
      ],
      "metadata": {
        "id": "z_QrnqXC8qIG"
      }
    },
    {
      "cell_type": "markdown",
      "source": [
        "Примечание. Для простоты и наглядности мы опустим процесс предобработки данных, разведывательный анализ, разделение выборки на обучающую и тестовую, валидацию модели и подбор гиперпараметров, так как для наших целей это неважно. Мы уверены, что вы уже способны произвести эти этапы самостоятельно."
      ],
      "metadata": {
        "id": "vwLaYl4N8s4d"
      }
    },
    {
      "cell_type": "code",
      "source": [
        "# В качестве модели, прогнозирующей целевую переменную, возьмём простейшую линейную регрессию, и обучим её на исходных данных:\n",
        "from sklearn.linear_model import LinearRegression\n",
        "\n",
        "from sklearn.datasets import load_diabetes\n",
        "\n",
        "# Загружаем датасет о диабете\n",
        "X, y = load_diabetes(return_X_y=True)\n",
        "# Инициализируем модель линейной регрессии\n",
        "regressor = LinearRegression()\n",
        "# Обучаем модель\n",
        "regressor.fit(X,y)\n",
        "\n",
        "## LinearRegression(copy_X=True, fit_intercept=True, n_jobs=None, normalize=False)"
      ],
      "metadata": {
        "colab": {
          "base_uri": "https://localhost:8080/"
        },
        "id": "qUF2526D7c0z",
        "outputId": "cc6c186a-8003-41fb-e122-058c5b35798c"
      },
      "execution_count": null,
      "outputs": [
        {
          "output_type": "execute_result",
          "data": {
            "text/plain": [
              "LinearRegression()"
            ]
          },
          "metadata": {},
          "execution_count": 7
        }
      ]
    },
    {
      "cell_type": "code",
      "source": [
        "regressor"
      ],
      "metadata": {
        "colab": {
          "base_uri": "https://localhost:8080/"
        },
        "id": "NviJcUw8Mka3",
        "outputId": "a12b5cfd-520e-4e5c-e018-618cf046c3cc"
      },
      "execution_count": null,
      "outputs": [
        {
          "output_type": "execute_result",
          "data": {
            "text/plain": [
              "LinearRegression()"
            ]
          },
          "metadata": {},
          "execution_count": 8
        }
      ]
    },
    {
      "cell_type": "markdown",
      "source": [
        "Вывод: В результате выполнения кода получился объект класса LinearRegression, на который ссылается переменная regressor. При этом атрибуты объекта (веса модели линейной регрессии) были сформированы во время обучения. То есть объект regressor теперь является обученной моделью."
      ],
      "metadata": {
        "id": "bmPsWrXf8T_8"
      }
    },
    {
      "cell_type": "markdown",
      "source": [
        "### **ШАГ №2**\n",
        "\n",
        "Далее, когда мы получили обученную модель, нам необходимо **сериализовать** её, превратив объект Python в поток байтов. Для этого импортируем модуль pickle и воспользуемся функцией **dumps(),** в которую нужно передать объект Python."
      ],
      "metadata": {
        "id": "rYG3yb_i82Rx"
      }
    },
    {
      "cell_type": "code",
      "source": [
        "import pickle\n",
        "\n",
        "# Производим сериализацию обученной модели\n",
        "model = pickle.dumps(regressor) #  превращаем объект Python в поток байтов\n",
        "\n",
        "print(type(model))\n",
        "print(type(regressor))\n"
      ],
      "metadata": {
        "colab": {
          "base_uri": "https://localhost:8080/"
        },
        "id": "qem82tcg84rM",
        "outputId": "ea1d9035-0066-42e1-dc05-b9fab1cce9ae"
      },
      "execution_count": null,
      "outputs": [
        {
          "output_type": "stream",
          "name": "stdout",
          "text": [
            "<class 'bytes'>\n",
            "<class 'sklearn.linear_model._base.LinearRegression'>\n"
          ]
        }
      ]
    },
    {
      "cell_type": "markdown",
      "source": [
        "Вывод: Как видим, мы создали объект model типа bytes."
      ],
      "metadata": {
        "id": "Eu0uGLqR9pgQ"
      }
    },
    {
      "cell_type": "markdown",
      "source": [
        "### **ШАГ №3**\n",
        "\n",
        "Давайте попробуем **восстановить (десериализовать) объект Python**. Для этого в модуле pickle есть функция **loads()**, в которую нужно передать сериализованный объект (поток байтов)."
      ],
      "metadata": {
        "id": "ZMnQ7Tce-LqD"
      }
    },
    {
      "cell_type": "code",
      "source": [
        "# Производим десериализацию\n",
        "regressor_from_bytes = pickle.loads(model)\n",
        "regressor_from_bytes\n",
        "## LinearRegression(copy_X=True, fit_intercept=True, n_jobs=None, normalize=False)"
      ],
      "metadata": {
        "colab": {
          "base_uri": "https://localhost:8080/"
        },
        "id": "-nWeQKn784t7",
        "outputId": "c0e31845-86a9-4fbb-b55e-ca43675516bf"
      },
      "execution_count": null,
      "outputs": [
        {
          "output_type": "execute_result",
          "data": {
            "text/plain": [
              "LinearRegression()"
            ]
          },
          "metadata": {},
          "execution_count": 10
        }
      ]
    },
    {
      "cell_type": "markdown",
      "source": [
        "Вывод: В результате десериализации мы смогли восстановить исходный объект (модель)."
      ],
      "metadata": {
        "id": "EBiVoa3k-VLV"
      }
    },
    {
      "cell_type": "markdown",
      "source": [
        "### **ШАГ №4**\n",
        "\n",
        "**Сохраним сериализованный объект прямо в файл**. Для этого в pickle есть функция **dump()** (без s на конце). В неё необходимо передать имя файла или ссылку на открытый файл. Файл назовём myfile, его расширение — .pkl (формат данных pickle):"
      ],
      "metadata": {
        "id": "QlgfBpFI-aGQ"
      }
    },
    {
      "cell_type": "code",
      "source": [
        "# Производим сериализацию и записываем результат в файл формата pkl\n",
        "with open('myfile.pkl', 'wb') as output:\n",
        "    pickle.dump(regressor, output)"
      ],
      "metadata": {
        "id": "ndMvDE8v84xH"
      },
      "execution_count": null,
      "outputs": []
    },
    {
      "cell_type": "markdown",
      "source": [
        "### **ШАГ №5**\n",
        "\n",
        "Посмотрим на код, который восстанавливает (десериализует) обученную модель из файла myfile.pkl. Для этого в pickle есть функция **load()** (без s на конце). В неё необходимо передать имя файла или ссылку на открытый файл."
      ],
      "metadata": {
        "id": "dAutbLtANlXf"
      }
    },
    {
      "cell_type": "code",
      "source": [
        "# Производим десериализацию и извлекаем модель из файла формата pkl\n",
        "with open('myfile.pkl', 'rb') as pkl_file:\n",
        "    regressor_from_file = pickle.load(pkl_file)\n",
        "\n",
        "regressor_from_file\n",
        "## LinearRegression(copy_X=True, fit_intercept=True, n_jobs=None, normalize=False)"
      ],
      "metadata": {
        "colab": {
          "base_uri": "https://localhost:8080/"
        },
        "id": "wzebCVi4NshD",
        "outputId": "651e4188-2cf0-437b-eb92-4d71e7c22e68"
      },
      "execution_count": null,
      "outputs": [
        {
          "output_type": "execute_result",
          "data": {
            "text/plain": [
              "LinearRegression()"
            ]
          },
          "metadata": {},
          "execution_count": 14
        }
      ]
    },
    {
      "cell_type": "markdown",
      "source": [
        "### **ШАГ №6**\n",
        "\n",
        "Убедимся, что методы и результаты предсказаний обученной модели и модели, загруженной из файла, совпадают"
      ],
      "metadata": {
        "id": "yxpKRT8nOKnQ"
      }
    },
    {
      "cell_type": "code",
      "source": [
        "# Проверяем, что все элементы массивов предсказаний совпадают между собой\n",
        "all(regressor.predict(X) == regressor_from_bytes.predict(X))\n",
        "## True\n",
        "all(regressor.predict(X) == regressor_from_file.predict(X))\n",
        "## True"
      ],
      "metadata": {
        "colab": {
          "base_uri": "https://localhost:8080/"
        },
        "id": "dBcZxlI3OJxT",
        "outputId": "6fad54f7-cf0e-4396-9d16-a0760152b925"
      },
      "execution_count": null,
      "outputs": [
        {
          "output_type": "execute_result",
          "data": {
            "text/plain": [
              "True"
            ]
          },
          "metadata": {},
          "execution_count": 15
        }
      ]
    },
    {
      "cell_type": "markdown",
      "source": [
        "**Вывод**: Как видите, исходная и восстановленная из байтов и файла модели дают одинаковые предсказания. Это значит, что теперь мы можем импортировать наши обученные модели в любое Python-приложение и пользоваться ими, минуя этап обучения и все этапы, предшествующие ему."
      ],
      "metadata": {
        "id": "E2NS9zuDOmEQ"
      }
    },
    {
      "cell_type": "markdown",
      "source": [
        "### **ОГРАНИЧЕНИЯ**"
      ],
      "metadata": {
        "id": "F1_usRXrOr9x"
      }
    },
    {
      "cell_type": "markdown",
      "source": [
        "Как мы упоминали, у pickle есть ограничения. Например, мы не можем сериализовать лямбда-функции. Давайте посмотрим, что нам вернёт следующий код:"
      ],
      "metadata": {
        "id": "A7SZTYB9OyBv"
      }
    },
    {
      "cell_type": "code",
      "source": [
        "my_lambda = lambda x: x*2\n",
        "with open('my_lambda.pkl', 'wb') as output:\n",
        "    pickle.dump(my_lambda, output)\n",
        " \n",
        "##\"PicklingError: Can't pickle <function <lambda>\""
      ],
      "metadata": {
        "id": "ORVtiYbpOxBr"
      },
      "execution_count": null,
      "outputs": []
    },
    {
      "cell_type": "markdown",
      "source": [
        "**Совет.** В таких случаях лучше пользоваться пакетом **dill**."
      ],
      "metadata": {
        "id": "HCQK6wy2PHrJ"
      }
    },
    {
      "cell_type": "markdown",
      "source": [
        "### **СОХРАНЕНИЕ ПАЙПЛАЙНА**"
      ],
      "metadata": {
        "id": "DFWIW45GShuG"
      }
    },
    {
      "cell_type": "markdown",
      "source": [
        "Мы уже упоминали, что pickle работает с любыми объектами Python. Поэтому для сохранения может быть доступна не просто обученная модель, но и целый пайплайн, включающий предобработку данных."
      ],
      "metadata": {
        "id": "V67BmF4ZStQV"
      }
    },
    {
      "cell_type": "markdown",
      "source": [
        "Например, мы хотим сериализовать пайплайн, который включает в себя min-max-нормализацию и отбор пяти наиболее важных факторов на основе корреляции Пирсона. Полученные в результате данные отправляются на вход модели линейной регрессии."
      ],
      "metadata": {
        "id": "ZyDeVeH_Sv_u"
      }
    },
    {
      "cell_type": "code",
      "source": [
        "import pickle\n",
        "\n",
        "from sklearn.linear_model import LinearRegression\n",
        "\n",
        "from sklearn.datasets import load_diabetes\n",
        "\n",
        "from sklearn.feature_selection import SelectKBest, f_regression\n",
        "\n",
        "from sklearn.preprocessing import MinMaxScaler\n",
        "\n",
        "from sklearn.pipeline import Pipeline\n",
        "\n",
        "# Загружаем датасет о диабете\n",
        "X, y = load_diabetes(return_X_y=True)\n",
        "\n",
        "# Создаём пайплайн, который включает нормализацию, отбор признаков и обучение модели\n",
        "pipe = Pipeline([  \n",
        "  ('Scaling', MinMaxScaler()),\n",
        "  ('FeatureSelection', SelectKBest(f_regression, k=5)),\n",
        "  ('Linear', LinearRegression())\n",
        "  ])\n",
        "\n",
        "# Обучаем пайплайн\n",
        "pipe.fit(X, y)"
      ],
      "metadata": {
        "colab": {
          "base_uri": "https://localhost:8080/"
        },
        "id": "LGiu1u_cSzPI",
        "outputId": "c2b9b4e2-8025-4b05-bc0a-1c2fc0c07f6b"
      },
      "execution_count": null,
      "outputs": [
        {
          "output_type": "execute_result",
          "data": {
            "text/plain": [
              "Pipeline(steps=[('Scaling', MinMaxScaler()),\n",
              "                ('FeatureSelection',\n",
              "                 SelectKBest(k=5,\n",
              "                             score_func=<function f_regression at 0x7fb23f5f5c10>)),\n",
              "                ('Linear', LinearRegression())])"
            ]
          },
          "metadata": {},
          "execution_count": 17
        }
      ]
    },
    {
      "cell_type": "markdown",
      "source": [
        "Пайплайн обучен. Давайте сохраним его в файл с помощью pickle:"
      ],
      "metadata": {
        "id": "B9IrVz_2THBq"
      }
    },
    {
      "cell_type": "code",
      "source": [
        "# Сериализуем pipeline и записываем результат в файл\n",
        "with open('my_pipeline.pkl', 'wb') as output:\n",
        "    pickle.dump(pipe, output)"
      ],
      "metadata": {
        "id": "3K8VZqKdTJjC"
      },
      "execution_count": null,
      "outputs": []
    },
    {
      "cell_type": "markdown",
      "source": [
        "Если сериализация завершилась успешно, то при инференсе модели мы сможем восстановить её из файла:"
      ],
      "metadata": {
        "id": "4GC1JDauThnN"
      }
    },
    {
      "cell_type": "code",
      "source": [
        "# Десериализуем pipeline из файла\n",
        "with open('my_pipeline.pkl', 'rb') as pkl_file:\n",
        "    loaded_pipe = pickle.load(pkl_file)"
      ],
      "metadata": {
        "id": "I2je4CxuTlFg"
      },
      "execution_count": null,
      "outputs": []
    },
    {
      "cell_type": "markdown",
      "source": [
        "Проверим, что результаты исходного и десериализованного пайплайнов и идентичны:"
      ],
      "metadata": {
        "id": "0oNkl5cITw4c"
      }
    },
    {
      "cell_type": "code",
      "source": [
        "# Сравниваем предсказания исходного и восстановленного пайплайнов\n",
        "print(all(pipe.predict(X) == loaded_pipe.predict(X)))\n",
        "\n",
        "## True"
      ],
      "metadata": {
        "colab": {
          "base_uri": "https://localhost:8080/"
        },
        "id": "IMKCkxPOTydy",
        "outputId": "476159f0-71c9-422d-c40e-5b97d5558132"
      },
      "execution_count": null,
      "outputs": [
        {
          "output_type": "stream",
          "name": "stdout",
          "text": [
            "True\n"
          ]
        }
      ]
    },
    {
      "cell_type": "markdown",
      "source": [
        "*Примечание.* Если мы хотим сохранять сериализованные пайплайны в виде потока байтов, нужно использовать функции dumps() и loads(), а не dump() и load()."
      ],
      "metadata": {
        "id": "Dm5z05hPT3LD"
      }
    },
    {
      "cell_type": "markdown",
      "source": [
        "Однако в процессе предобработки могут возникнуть шаги, которые нельзя реализовать стандартными методами sklearn. Например, для решения многих задач в нашем курсе мы часто использовали feature engineering, чтобы повысить качество работы моделей. Как встроить этот шаг в исходный пайплайн?"
      ],
      "metadata": {
        "id": "FaYrrCLGT8Wh"
      }
    },
    {
      "cell_type": "markdown",
      "source": [
        "Для этого в sklearn можно организовать так называемые **кастомные трансформеры**. Такой трансформер должен наследоваться от двух классов: TransformerMixin и BaseEstimator."
      ],
      "metadata": {
        "id": "kFszyU6mUAXL"
      }
    },
    {
      "cell_type": "markdown",
      "source": [
        "*Посмотрим на шаблон кастомного трансформера:*"
      ],
      "metadata": {
        "id": "y9G5Eiv6VfXo"
      }
    },
    {
      "cell_type": "code",
      "source": [
        "from sklearn.base import TransformerMixin, BaseEstimator\n",
        "class MyTransformer(TransformerMixin, BaseEstimator):\n",
        "    '''Шаблон кастомного трансформера'''\n",
        " \n",
        "    def __init__(self):\n",
        "        '''\n",
        "        Здесь прописывается инициализация параметров, не зависящих от данных.\n",
        "        '''\n",
        "        pass\n",
        " \n",
        "    def fit(self, X, y=None):\n",
        "        '''\n",
        "        Здесь прописывается «обучение» трансформера.\n",
        "        Вычисляются необходимые для работы трансформера параметры (если они нужны).\n",
        "        '''\n",
        "\n",
        "        return self\n",
        " \n",
        "    def transform(self, X):\n",
        "        '''\n",
        "        Здесь прописываются действия с данными.\n",
        "        '''\n",
        "        return X"
      ],
      "metadata": {
        "id": "T5la4OY0VdEy"
      },
      "execution_count": null,
      "outputs": []
    },
    {
      "cell_type": "markdown",
      "source": [
        "\n",
        "***У трансформера должно быть три обязательных метода: ***\n",
        "\n",
        "**__init__()** — метод, который вызывается при создании объекта данного класса. Он предназначен для инициализации исходных параметров.\n",
        "Например, у трансформера для создания полиномиальных признаков PolynomialFeatures из sklearn в методе __init__() параметр degree задаёт степень полинома.\n",
        "\n",
        "**fit() **— метод, который вызывается для «обучения» трансформера. Он должен возвращать ссылку на сам объект (self).\n",
        "Например, в трансформере StandardScaler в методе fit() прописано вычисление среднего значения и стандартного отклонения в каждом столбце таблицы, переданной в качестве параметра метода fit().\n",
        "\n",
        "**transform()** — метод, который трансформирует приходящие на вход данные. Он должен возвращать преобразованный массив данных.\n",
        "Например, при вызове метода transform() у StandardScaler из sklearn внутри происходит преобразование — вычитание из каждого столбца среднего и деление результата на стандартное отклонение. Причём среднее и стандартное отклонение вычисляются заранее в методе fit()."
      ],
      "metadata": {
        "id": "A1gs-KuuVrBP"
      }
    },
    {
      "cell_type": "markdown",
      "source": [
        "**Примечание.** Как мы знаем, у некоторых трансформеров из sklearn, например у того же MinMaxScaler, есть ещё и метод fit_transform(), который является комбинацией методов fit() и transform()."
      ],
      "metadata": {
        "id": "V6x-1ZkKWMaN"
      }
    },
    {
      "cell_type": "markdown",
      "source": [
        "Наш трансформер пока что ничего не делает. **Предположим, мы хотим генерировать в данных новый признак, который является простым произведением первых трёх столбцов таблицы. Давайте пропишем в методе transform() эти действия.**\n",
        "\n",
        "Для работы такого трансформера нужны только исходные данные без дополнительных параметров, поэтому методы __init__() и fit() остаются без изменений."
      ],
      "metadata": {
        "id": "yH5EatYIWPZ4"
      }
    },
    {
      "cell_type": "code",
      "source": [
        "class MyTransformer(TransformerMixin, BaseEstimator):\n",
        "    '''Шаблон кастомного трансформера'''\n",
        "\n",
        "\n",
        "    def __init__(self):\n",
        "        '''Здесь прописывается инициализация параметров, не зависящих от данных.'''\n",
        "        pass\n",
        "\n",
        "\n",
        "    def fit(self, X, y=None):\n",
        "        '''\n",
        "        Здесь прописывается «обучение» трансформера.\n",
        "        Вычисляются необходимые для работы трансформера параметры (если они нужны).\n",
        "        '''\n",
        "        return self\n",
        "\n",
        "\n",
        "    def transform(self, X):\n",
        "        '''Здесь прописываются действия с данными.'''\n",
        "        # Создаём новый столбец как произведение первых трёх\n",
        "        new_column = X[:, 0] * X[:, 1] * X[:, 2]\n",
        "        # Для добавления столбца в массив нужно изменить его размер на (n_rows, 1)\n",
        "        new_column = new_column.reshape(X.shape[0], 1)\n",
        "        # Добавляем столбец в матрицу измерений\n",
        "        X = np.append(X, new_column, axis=1)\n",
        "        return X"
      ],
      "metadata": {
        "id": "bP1RDAW-WR5U"
      },
      "execution_count": null,
      "outputs": []
    },
    {
      "cell_type": "markdown",
      "source": [
        "Посмотрим, как работает наш кастомный трансформер. Создадим объект трансформера, вызовем метод transform и посмотрим на результирующий размер таблицы."
      ],
      "metadata": {
        "id": "twgFA_VJWxpS"
      }
    },
    {
      "cell_type": "code",
      "source": [
        "import numpy as np"
      ],
      "metadata": {
        "id": "rf6Org-nXRyL"
      },
      "execution_count": null,
      "outputs": []
    },
    {
      "cell_type": "code",
      "source": [
        "# Инициализируем объект класса MyTransformer (вызывается метод __init__)\n",
        "custom_transformer = MyTransformer()\n",
        "# Чисто формально вызываем метод fit, но у нас он ничего не делает\n",
        "custom_transformer.fit(X)\n",
        "# Трансформируем исходные данные (вызывается метод transform)\n",
        "X_transformed = custom_transformer.transform(X)\n",
        "print('Shape before transform: {}'.format(X.shape))\n",
        "print('Shape after transform: {}'.format(X_transformed.shape))\n",
        "\n",
        "## Shape before transform: (442, 10)\n",
        "## Shape after transform: (442, 11)"
      ],
      "metadata": {
        "colab": {
          "base_uri": "https://localhost:8080/"
        },
        "id": "OPAOiey2WzrS",
        "outputId": "4b46f041-463e-4cc1-8d83-1ea2930af807"
      },
      "execution_count": null,
      "outputs": [
        {
          "output_type": "stream",
          "name": "stdout",
          "text": [
            "Shape before transform: (442, 10)\n",
            "Shape after transform: (442, 11)\n"
          ]
        }
      ]
    },
    {
      "cell_type": "markdown",
      "source": [
        "Видно, что в результате трансформации в исходную матрицу наблюдений добавился новый столбец.\n",
        "\n",
        "Теперь давайте встроим этот трансформер в сам пайплайн — для этого достаточно добавить новый шаг в пайплайн."
      ],
      "metadata": {
        "id": "X_17kzBNW2tY"
      }
    },
    {
      "cell_type": "code",
      "source": [
        "# Создаём пайплайн, который включает Feature Engineering, нормализацию, отбор признаков и обучение модели\n",
        "pipe = Pipeline([  \n",
        "  ('FeatureEngineering', MyTransformer()),\n",
        "  ('Scaling', MinMaxScaler()),\n",
        "  ('FeatureSelection', SelectKBest(f_regression, k=5)),\n",
        "  ('Linear', LinearRegression())\n",
        "  ])\n",
        "\n",
        "# Обучаем пайплайн\n",
        "pipe.fit(X, y)"
      ],
      "metadata": {
        "colab": {
          "base_uri": "https://localhost:8080/"
        },
        "id": "f2VspH-2W41g",
        "outputId": "46706ee1-3a4a-48e2-ae50-596516e9096b"
      },
      "execution_count": null,
      "outputs": [
        {
          "output_type": "execute_result",
          "data": {
            "text/plain": [
              "Pipeline(steps=[('FeatureEngineering', MyTransformer()),\n",
              "                ('Scaling', MinMaxScaler()),\n",
              "                ('FeatureSelection',\n",
              "                 SelectKBest(k=5,\n",
              "                             score_func=<function f_regression at 0x7fb23f5f5c10>)),\n",
              "                ('Linear', LinearRegression())])"
            ]
          },
          "metadata": {},
          "execution_count": 25
        }
      ]
    },
    {
      "cell_type": "markdown",
      "source": [
        "Наконец можно сериализовать полученный pipeline:"
      ],
      "metadata": {
        "id": "uLgvOzUcW6_y"
      }
    },
    {
      "cell_type": "code",
      "source": [
        "# Сериализуем pipeline и записываем результат в файл\n",
        "with open('my_new_pipeline.pkl', 'wb') as output:\n",
        "    pickle.dump(pipe, output)"
      ],
      "metadata": {
        "id": "pR4Jf6eYW8zL"
      },
      "execution_count": null,
      "outputs": []
    },
    {
      "cell_type": "markdown",
      "source": [
        "Теперь мы можем передать пайплайн и воспользоваться им для инференса, предварительно произведя десериализацию."
      ],
      "metadata": {
        "id": "Na3phtm3W_DJ"
      }
    },
    {
      "cell_type": "markdown",
      "source": [
        "**Задание 2.5**\n",
        "\n",
        "Десериализуйте полученный pipeline с добавленным в него кастомной трансформации из файла. Затем предскажите значение целевой переменной для наблюдения, которое описывается следующим вектором:\n",
        "\n",
        "features = np.array([[ 0.00538306, -0.04464164,  0.05954058, -0.05616605,  0.02457414, 0.05286081, -0.04340085,  0.05091436, -0.00421986, -0.03007245]])"
      ],
      "metadata": {
        "id": "xnlLcCZhXwQ2"
      }
    },
    {
      "cell_type": "code",
      "source": [
        "# Десериализуем pipeline из файла\n",
        "with open('my_new_pipeline.pkl', 'rb') as pkl_file:\n",
        "    loaded_pipe = pickle.load(pkl_file) \n",
        "    \n",
        "features =np.array([[ 0.00538306, -0.04464164,  0.05954058, -0.05616605,  0.02457414, 0.05286081, -0.04340085,  0.05091436, -0.00421986, -0.03007245]])\n",
        " \n",
        "# Формируем предсказание\n",
        "print(np.round(loaded_pipe.predict(features)))"
      ],
      "metadata": {
        "colab": {
          "base_uri": "https://localhost:8080/"
        },
        "id": "ncaXQ4PdYT1x",
        "outputId": "99f45aff-5ca5-4692-aa0e-2fa63d29e5f6"
      },
      "execution_count": null,
      "outputs": [
        {
          "output_type": "stream",
          "name": "stdout",
          "text": [
            "[173.]\n"
          ]
        }
      ]
    },
    {
      "cell_type": "markdown",
      "source": [
        "### **БИБЛИОТЕКА JOBLIB**"
      ],
      "metadata": {
        "id": "xJBxViWhYtMy"
      }
    },
    {
      "cell_type": "markdown",
      "source": [
        "Как мы видим, pickle прекрасно справляется со своей задачей: мы можем сериализовать и восстанавливать любые Python-объекты, включая модели и даже пайплайны. Однако иногда массивы данных, на которых обучаются модели, бывают настолько большими, что после загрузки из pickle невозможно восстановить объект полностью.\n",
        "\n",
        "В таких случаях вместо pickle лучше использовать библиотеку joblib. Этот модуль более эффективен и надёжен для работы с объектами, которые содержат большие массивы данных. Пожалуй, единственный минус этого модуля в том, что он может «консервировать» только в файл, поэтому вы не сможете получить объект в виде бинарной строки и работать с ним. В модуле попросту отсутствуют методы для работы с бинарной строкой. Формат файлов для сохранения — .joblib."
      ],
      "metadata": {
        "id": "FG0HUk97Y47t"
      }
    },
    {
      "cell_type": "markdown",
      "source": [
        "В остальном работа с joblib полностью идентична работе с pickle: после обучения модели производим сериализацию с помощью функции dump(), а в коде самого приложения, где нужно использовать модель, выполняем десериализацию с помощью функции load(). В каждую из этих функций необходимо передать путь до файла для записи и чтения соответственно."
      ],
      "metadata": {
        "id": "Ax-GbF3JY8XC"
      }
    },
    {
      "cell_type": "markdown",
      "source": [
        "Для иллюстрации работы сохраним полученную линейную регрессию:"
      ],
      "metadata": {
        "id": "wj4zDzUhZCmY"
      }
    },
    {
      "cell_type": "code",
      "source": [
        "import joblib\n",
        "\n",
        "# Загружаем датасет о диабете\n",
        "X, y = load_diabetes(return_X_y=True)\n",
        "# Обучаем модель линейной регрессии\n",
        "regressor = LinearRegression()\n",
        "regressor.fit(X, y)\n",
        "# Производим сериализацию и сохраняем результат в файл формата .joblib\n",
        "joblib.dump(regressor, 'regr.joblib')\n",
        "\n",
        "## ['regr.joblib']"
      ],
      "metadata": {
        "colab": {
          "base_uri": "https://localhost:8080/"
        },
        "id": "HLHHk1bvZACA",
        "outputId": "e021a9c6-bdbf-4671-aca2-ea2a1170d7bc"
      },
      "execution_count": null,
      "outputs": [
        {
          "output_type": "execute_result",
          "data": {
            "text/plain": [
              "['regr.joblib']"
            ]
          },
          "metadata": {},
          "execution_count": 29
        }
      ]
    },
    {
      "cell_type": "markdown",
      "source": [
        "Загрузим файл заново (загрузка может быть произведена в другом файле с кодом):"
      ],
      "metadata": {
        "id": "bo5dZAE4ZGbG"
      }
    },
    {
      "cell_type": "code",
      "source": [
        "# Десериализуем модель из файла\n",
        "clf_from_jobliv = joblib.load('regr.joblib') \n",
        "# Сравниваем предсказания\n",
        "all(regressor.predict(X) == clf_from_jobliv.predict(X))\n",
        "\n",
        "## True"
      ],
      "metadata": {
        "colab": {
          "base_uri": "https://localhost:8080/"
        },
        "id": "tE9M77FJZINP",
        "outputId": "ae161f71-1ae7-4dd4-ed22-b28c407775b3"
      },
      "execution_count": null,
      "outputs": [
        {
          "output_type": "execute_result",
          "data": {
            "text/plain": [
              "True"
            ]
          },
          "metadata": {},
          "execution_count": 30
        }
      ]
    },
    {
      "cell_type": "markdown",
      "source": [
        "## **3. Практика: pickle**"
      ],
      "metadata": {
        "id": "18YowwaHQ-UT"
      }
    },
    {
      "cell_type": "markdown",
      "source": [
        "Ваш коллега Василий обучил модель и теперь просит вас проверить её на ваших данных. Он присылает вам pickle-файл. Загрузите модель, используя модуль pickle."
      ],
      "metadata": {
        "id": "cVC4JBCYVQkv"
      }
    },
    {
      "cell_type": "code",
      "source": [
        "# Десериализуем pipeline из файла\n",
        "with open('/content/drive/MyDrive/data/model.pkl', 'rb') as pkl_file:\n",
        "    model = pickle.load(pkl_file)"
      ],
      "metadata": {
        "colab": {
          "base_uri": "https://localhost:8080/"
        },
        "id": "srWDEmVjR-5F",
        "outputId": "f2a56819-7591-4406-882d-fce96f934dbe"
      },
      "execution_count": null,
      "outputs": [
        {
          "output_type": "stream",
          "name": "stdout",
          "text": [
            "secret word: skillfactory\n",
            "how is this possible? answer is here: https://youtu.be/xm-A-h9QkXg\n"
          ]
        },
        {
          "output_type": "stream",
          "name": "stderr",
          "text": [
            "/usr/local/lib/python3.8/dist-packages/sklearn/base.py:329: UserWarning: Trying to unpickle estimator LinearRegression from version 0.22.2.post1 when using version 1.0.2. This might lead to breaking code or invalid results. Use at your own risk. For more info please refer to:\n",
            "https://scikit-learn.org/stable/modules/model_persistence.html#security-maintainability-limitations\n",
            "  warnings.warn(\n"
          ]
        }
      ]
    },
    {
      "cell_type": "code",
      "source": [
        "# Проверьте, объект какого типа получился. Какую модель вам прислал коллега?\n",
        "type(model)"
      ],
      "metadata": {
        "colab": {
          "base_uri": "https://localhost:8080/"
        },
        "id": "p09kaw22Ui6A",
        "outputId": "af0e4e58-d26e-45a7-9e3a-b2c21d03859d"
      },
      "execution_count": null,
      "outputs": [
        {
          "output_type": "execute_result",
          "data": {
            "text/plain": [
              "sklearn.linear_model._base.LinearRegression"
            ]
          },
          "metadata": {},
          "execution_count": 36
        }
      ]
    },
    {
      "cell_type": "markdown",
      "source": [
        "**Задание 3.3**\n",
        "\n",
        "Теперь необходимо применить модель. Сделайте предсказание для следующего набора фичей: [1, 1, 1, 0.661212487096872]. Введите результат, предварительно округлив его до трёх знаков после точки-разделителя."
      ],
      "metadata": {
        "id": "y0b71cELVkXi"
      }
    },
    {
      "cell_type": "code",
      "source": [
        "print(model.predict([[1, 1, 1, 0.661212487096872]]))"
      ],
      "metadata": {
        "colab": {
          "base_uri": "https://localhost:8080/"
        },
        "id": "UJBQi4vaVxVW",
        "outputId": "78f772f2-6294-4891-b751-90aeb24eba92"
      },
      "execution_count": null,
      "outputs": [
        {
          "output_type": "stream",
          "name": "stdout",
          "text": [
            "[0.666]\n"
          ]
        }
      ]
    },
    {
      "cell_type": "markdown",
      "source": [
        "У присланной вам модели есть два поля (атрибута) с именами a и b. Создайте из них словарь с такими же именами ключей и значениями, а затем сохраните его в файл с помощью модуля pickle."
      ],
      "metadata": {
        "id": "yUS0moN3VwcW"
      }
    },
    {
      "cell_type": "markdown",
      "source": [
        "Чтобы вы могли проверить правильность решения задания, мы создали специальный проверочный скрипт. Скачайте его здесь.\n",
        "\n",
        "Сохраните его рядом с вашим pickle-файлом (в той же папке) и запустите, передав первым аргументом имя файла. Если вы всё сделали правильно, на экран выведется ответ для следующего задания."
      ],
      "metadata": {
        "id": "ezWbvqh7WHck"
      }
    },
    {
      "cell_type": "code",
      "source": [
        "# У присланной вам модели есть два поля (атрибута) с именами a и b. \n",
        "# Создайте из них словарь с такими же именами ключей и значениями, а затем сохраните его в файл с помощью модуля pickle.\n",
        "my_dict = {'a': model.a, 'b': model.b}\n",
        "with open('my_dict.pkl', 'wb') as pkl_file:\n",
        "  pickle.dump(my_dict, pkl_file)\n"
      ],
      "metadata": {
        "id": "Qky0cw8vWVTZ"
      },
      "execution_count": null,
      "outputs": []
    },
    {
      "cell_type": "code",
      "source": [
        "# КАК ЗАПУСТИТЬ СКРИПТ?\n",
        "# В ячейке Jupyter Notebook:\n",
        "\n",
        "# !python hw1_check_ol.py имя_pickle_файла.pkl\n",
        "# Если вы всё сделали правильно, в результате выполнения проверочного скрипта будет выведен секретный код(3c508)\n",
        "!python hw1_check_ol.py my_dict.pkl"
      ],
      "metadata": {
        "colab": {
          "base_uri": "https://localhost:8080/"
        },
        "id": "dkdyz8kvWoff",
        "outputId": "8e6a3b6c-4b25-4836-8329-ad689d9f79f0"
      },
      "execution_count": null,
      "outputs": [
        {
          "output_type": "stream",
          "name": "stdout",
          "text": [
            "('secret code 2:', '3c508')\n"
          ]
        }
      ]
    },
    {
      "cell_type": "markdown",
      "source": [
        "## **4. Сохранение и загрузка моделей: PMML и ONNX-ML**"
      ],
      "metadata": {
        "id": "rySn4AmKY-wK"
      }
    },
    {
      "cell_type": "markdown",
      "source": [
        "### **PREDICTIVE MODEL MARKUP LANGUAGE**"
      ],
      "metadata": {
        "id": "nH4TN032Z7aE"
      }
    },
    {
      "cell_type": "markdown",
      "source": [
        "Среда или требования к инференсу модели для вашего проекта могут быть устроены так, что потребуют реализации на языке программирования, отличном от Python. Например, если компания разрабатывает десктопное приложение, то для внедрения модели её потребуется «перевести» на Java или C++. Как это сделать?"
      ],
      "metadata": {
        "id": "8z4vmWXDZpTf"
      }
    },
    {
      "cell_type": "markdown",
      "source": [
        "В таких случаях используется генерация файла формата PMML (Predictive Model Markup Language)."
      ],
      "metadata": {
        "id": "DKvzszyfZ1hi"
      }
    },
    {
      "cell_type": "markdown",
      "source": [
        "PMML — это XML-диалект, который применяется для описания статистических и DS-моделей. PMML-совместимые приложения позволяют легко обмениваться моделями данных между собой. Разработка и внедрение PMML осуществляется IT-консорциумом Data Mining Group."
      ],
      "metadata": {
        "id": "b74cerXeZ4Pe"
      }
    },
    {
      "cell_type": "markdown",
      "source": [
        "К сожалению, далеко не все библиотеки для машинного обучения (в том числе sklearn) поддерживают возможность сохранения обученной модели в указанном формате. Однако для этого можно использовать сторонние библиотеки, и одной из самых популярных является Nyoka."
      ],
      "metadata": {
        "id": "F5rPt774aRHK"
      }
    },
    {
      "cell_type": "markdown",
      "source": [
        "Давайте сохраним модель из предыдущего блока в формат PMML.\n",
        "\n",
        "Для установки можно использовать систему управления пакетами pip:\n",
        "\n",
        "!pip3 install nyoka"
      ],
      "metadata": {
        "id": "Q9ydJThJaV7D"
      }
    },
    {
      "cell_type": "code",
      "source": [
        "!pip3 install nyoka"
      ],
      "metadata": {
        "colab": {
          "base_uri": "https://localhost:8080/"
        },
        "id": "8Rt3fg8saYIA",
        "outputId": "dc12766d-72cd-4726-8ff9-eb2018227339"
      },
      "execution_count": null,
      "outputs": [
        {
          "output_type": "stream",
          "name": "stdout",
          "text": [
            "Looking in indexes: https://pypi.org/simple, https://us-python.pkg.dev/colab-wheels/public/simple/\n",
            "Collecting nyoka\n",
            "  Downloading nyoka-5.4.0-py3-none-any.whl (303 kB)\n",
            "\u001b[2K     \u001b[90m━━━━━━━━━━━━━━━━━━━━━━━━━━━━━━━━━━━━━━\u001b[0m \u001b[32m303.8/303.8 KB\u001b[0m \u001b[31m21.3 MB/s\u001b[0m eta \u001b[36m0:00:00\u001b[0m\n",
            "\u001b[?25hRequirement already satisfied: lxml in /usr/local/lib/python3.8/dist-packages (from nyoka) (4.9.2)\n",
            "Installing collected packages: nyoka\n",
            "Successfully installed nyoka-5.4.0\n"
          ]
        }
      ]
    },
    {
      "cell_type": "code",
      "source": [
        "from nyoka import skl_to_pmml\n",
        "from sklearn.preprocessing import MinMaxScaler\n",
        "from sklearn.pipeline import Pipeline\n",
        "from sklearn.linear_model import LinearRegression\n",
        "from sklearn.datasets import load_diabetes\n",
        "\n",
        "X, y = load_diabetes(return_X_y=True)\n",
        "cols = load_diabetes()['feature_names']\n",
        "\n",
        "scaler = MinMaxScaler()\n",
        "pipe = Pipeline([  \n",
        "            ('Scaling', MinMaxScaler()),\n",
        "            ('Linear', LinearRegression())\n",
        "        ])\n",
        "# Обучение пайплайна, включающего линейную модель и нормализацию признаков\n",
        "pipe.fit(X, y)\n",
        "\n",
        "# Сохраним пайплайн в формате pmml в файл pipeline.pmml\n",
        "skl_to_pmml(pipeline=pipe, col_names=cols, pmml_f_name=\"pipeline.pmml\")"
      ],
      "metadata": {
        "id": "Ojwg5oFQaspt"
      },
      "execution_count": null,
      "outputs": []
    },
    {
      "cell_type": "markdown",
      "source": [
        "Вывод: Итак, мы построили пайплайн обработки данных и обучили модель линейной регрессии. После этого мы с помощью функции skl_to_pmml сохранили модель в файл pipe.pmml."
      ],
      "metadata": {
        "id": "kNE88NZYcG9q"
      }
    },
    {
      "cell_type": "markdown",
      "source": [
        "Давайте рассмотрим этот файл подробнее:\n",
        "\n",
        "Секция <DataDictionary> содержит информацию о признаках, включая наименование и тип данных, используемых для построения модели.\n",
        "\n",
        "Секция <TransformationDictionary> содержит информацию о необходимых преобразованиях для каждого признака. Обратите внимание, что в этом блоке также содержится информация для трансформации. Так как мы использовали minMaxScaler(), то в файле записаны минимальное и максимальное значения."
      ],
      "metadata": {
        "id": "wSBov8RCcLKj"
      }
    },
    {
      "cell_type": "markdown",
      "source": [
        "Какая секция содержит информацию о типе используемой модели?\n",
        "<RegressionModel>\n",
        "  верно \n"
      ],
      "metadata": {
        "id": "nU5DzP0Hdi5p"
      }
    },
    {
      "cell_type": "markdown",
      "source": [
        "***Вывод:*** Таким образом, в файле содержится вся информация для того, чтобы пайплайн можно было использовать на любом языке программирования."
      ],
      "metadata": {
        "id": "8rAFvGxXdnlI"
      }
    },
    {
      "cell_type": "markdown",
      "source": [
        "## **OPEN NEURAL NETWORK EXCHANGE**"
      ],
      "metadata": {
        "id": "YOt8Fdm6dt1s"
      }
    },
    {
      "cell_type": "markdown",
      "source": [
        "В разработке моделей на основе нейронных сетей сегодня наиболее распространён формат ONNX (Open Neural Network Exchange)-Открытый обмен нейронными сетями."
      ],
      "metadata": {
        "id": "AMKmuqp9d1ZB"
      }
    },
    {
      "cell_type": "markdown",
      "source": [
        "*ONNX (Open Neural Network Exchange)* — это открытый стандарт для обеспечения совместимости моделей машинного обучения. Он позволяет разработчикам искусственного интеллекта использовать модели с различными инфраструктурами, инструментами, средами исполнения и компиляторами."
      ],
      "metadata": {
        "id": "RP8et9q6d_m4"
      }
    },
    {
      "cell_type": "markdown",
      "source": [
        "Часто стандарт ONNX и его библиотеки используют для конвертации из одного фреймворка в другой (например, из PyTorch в TensorFlow для использования в продакшене). Для конвертации различных фреймворков (не только DL) в формат ONNX и обратно существует ряд библиотек:\n",
        "\n",
        "ONNX-Tensorflow;\n",
        "\n",
        "Tensorflow-ONNX;\n",
        "\n",
        "Keras-ONNX;\n",
        "\n",
        "Sklearn-ONNX.\n",
        "\n",
        "и другие.\n",
        "\n",
        "Также в рамках стандарта ONNX есть инструмент ONNX-runtime. Он служит для ускорения инференса Python-моделей, а также инференса на других языках, например Java, C++."
      ],
      "metadata": {
        "id": "uhpjCvgzeNfa"
      }
    },
    {
      "cell_type": "markdown",
      "source": [
        "### *Задание 4.6 (со звёздочкой)"
      ],
      "metadata": {
        "id": "3dcYqYEvpxvq"
      }
    },
    {
      "cell_type": "markdown",
      "source": [
        "В задаче ниже мы обучаем модель sklearn, конвертируем ее в ONNX и делаем инференс через ONNX-runtime.\n",
        "\n",
        "Дополните код ниже недостающими элементами:"
      ],
      "metadata": {
        "id": "4Xblcu8Jpvo0"
      }
    },
    {
      "cell_type": "code",
      "source": [
        "!pip install onnxruntime"
      ],
      "metadata": {
        "colab": {
          "base_uri": "https://localhost:8080/"
        },
        "id": "fbCB6Y1UmJ2R",
        "outputId": "02a5ba91-b9e6-445e-c172-c652488486c1"
      },
      "execution_count": null,
      "outputs": [
        {
          "output_type": "stream",
          "name": "stdout",
          "text": [
            "Looking in indexes: https://pypi.org/simple, https://us-python.pkg.dev/colab-wheels/public/simple/\n",
            "Collecting onnxruntime\n",
            "  Downloading onnxruntime-1.13.1-cp38-cp38-manylinux_2_27_x86_64.whl (4.5 MB)\n",
            "\u001b[2K     \u001b[90m━━━━━━━━━━━━━━━━━━━━━━━━━━━━━━━━━━━━━━━━\u001b[0m \u001b[32m4.5/4.5 MB\u001b[0m \u001b[31m61.1 MB/s\u001b[0m eta \u001b[36m0:00:00\u001b[0m\n",
            "\u001b[?25hRequirement already satisfied: packaging in /usr/local/lib/python3.8/dist-packages (from onnxruntime) (21.3)\n",
            "Requirement already satisfied: numpy>=1.21.6 in /usr/local/lib/python3.8/dist-packages (from onnxruntime) (1.21.6)\n",
            "Collecting coloredlogs\n",
            "  Downloading coloredlogs-15.0.1-py2.py3-none-any.whl (46 kB)\n",
            "\u001b[2K     \u001b[90m━━━━━━━━━━━━━━━━━━━━━━━━━━━━━━━━━━━━━━━━\u001b[0m \u001b[32m46.0/46.0 KB\u001b[0m \u001b[31m4.2 MB/s\u001b[0m eta \u001b[36m0:00:00\u001b[0m\n",
            "\u001b[?25hRequirement already satisfied: sympy in /usr/local/lib/python3.8/dist-packages (from onnxruntime) (1.7.1)\n",
            "Requirement already satisfied: protobuf in /usr/local/lib/python3.8/dist-packages (from onnxruntime) (3.19.6)\n",
            "Requirement already satisfied: flatbuffers in /usr/local/lib/python3.8/dist-packages (from onnxruntime) (1.12)\n",
            "Collecting humanfriendly>=9.1\n",
            "  Downloading humanfriendly-10.0-py2.py3-none-any.whl (86 kB)\n",
            "\u001b[2K     \u001b[90m━━━━━━━━━━━━━━━━━━━━━━━━━━━━━━━━━━━━━━━━\u001b[0m \u001b[32m86.8/86.8 KB\u001b[0m \u001b[31m11.3 MB/s\u001b[0m eta \u001b[36m0:00:00\u001b[0m\n",
            "\u001b[?25hRequirement already satisfied: pyparsing!=3.0.5,>=2.0.2 in /usr/local/lib/python3.8/dist-packages (from packaging->onnxruntime) (3.0.9)\n",
            "Requirement already satisfied: mpmath>=0.19 in /usr/local/lib/python3.8/dist-packages (from sympy->onnxruntime) (1.2.1)\n",
            "Installing collected packages: humanfriendly, coloredlogs, onnxruntime\n",
            "Successfully installed coloredlogs-15.0.1 humanfriendly-10.0 onnxruntime-1.13.1\n"
          ]
        }
      ]
    },
    {
      "cell_type": "code",
      "source": [
        "!pip install skl2onnx"
      ],
      "metadata": {
        "colab": {
          "base_uri": "https://localhost:8080/"
        },
        "id": "uhEsB8Y5mYZV",
        "outputId": "34f8a35e-2679-4b79-ec79-7c62c79d253b"
      },
      "execution_count": null,
      "outputs": [
        {
          "output_type": "stream",
          "name": "stdout",
          "text": [
            "Looking in indexes: https://pypi.org/simple, https://us-python.pkg.dev/colab-wheels/public/simple/\n",
            "Collecting skl2onnx\n",
            "  Downloading skl2onnx-1.13-py2.py3-none-any.whl (288 kB)\n",
            "\u001b[2K     \u001b[90m━━━━━━━━━━━━━━━━━━━━━━━━━━━━━━━━━━━━━━\u001b[0m \u001b[32m288.7/288.7 KB\u001b[0m \u001b[31m12.5 MB/s\u001b[0m eta \u001b[36m0:00:00\u001b[0m\n",
            "\u001b[?25hRequirement already satisfied: scikit-learn<=1.1.1 in /usr/local/lib/python3.8/dist-packages (from skl2onnx) (1.0.2)\n",
            "Requirement already satisfied: scipy>=1.0 in /usr/local/lib/python3.8/dist-packages (from skl2onnx) (1.7.3)\n",
            "Requirement already satisfied: numpy>=1.15 in /usr/local/lib/python3.8/dist-packages (from skl2onnx) (1.21.6)\n",
            "Collecting onnx>=1.2.1\n",
            "  Downloading onnx-1.13.0-cp38-cp38-manylinux_2_17_x86_64.manylinux2014_x86_64.whl (13.5 MB)\n",
            "\u001b[2K     \u001b[90m━━━━━━━━━━━━━━━━━━━━━━━━━━━━━━━━━━━━━━━━\u001b[0m \u001b[32m13.5/13.5 MB\u001b[0m \u001b[31m29.4 MB/s\u001b[0m eta \u001b[36m0:00:00\u001b[0m\n",
            "\u001b[?25hCollecting onnxconverter-common>=1.7.0\n",
            "  Downloading onnxconverter_common-1.13.0-py2.py3-none-any.whl (83 kB)\n",
            "\u001b[2K     \u001b[90m━━━━━━━━━━━━━━━━━━━━━━━━━━━━━━━━━━━━━━━━\u001b[0m \u001b[32m83.8/83.8 KB\u001b[0m \u001b[31m10.8 MB/s\u001b[0m eta \u001b[36m0:00:00\u001b[0m\n",
            "\u001b[?25hRequirement already satisfied: protobuf in /usr/local/lib/python3.8/dist-packages (from skl2onnx) (3.19.6)\n",
            "Requirement already satisfied: typing-extensions>=3.6.2.1 in /usr/local/lib/python3.8/dist-packages (from onnx>=1.2.1->skl2onnx) (4.4.0)\n",
            "Collecting protobuf\n",
            "  Downloading protobuf-3.20.3-cp38-cp38-manylinux_2_5_x86_64.manylinux1_x86_64.whl (1.0 MB)\n",
            "\u001b[2K     \u001b[90m━━━━━━━━━━━━━━━━━━━━━━━━━━━━━━━━━━━━━━━━\u001b[0m \u001b[32m1.0/1.0 MB\u001b[0m \u001b[31m44.4 MB/s\u001b[0m eta \u001b[36m0:00:00\u001b[0m\n",
            "\u001b[?25hRequirement already satisfied: packaging in /usr/local/lib/python3.8/dist-packages (from onnxconverter-common>=1.7.0->skl2onnx) (21.3)\n",
            "Requirement already satisfied: threadpoolctl>=2.0.0 in /usr/local/lib/python3.8/dist-packages (from scikit-learn<=1.1.1->skl2onnx) (3.1.0)\n",
            "Requirement already satisfied: joblib>=0.11 in /usr/local/lib/python3.8/dist-packages (from scikit-learn<=1.1.1->skl2onnx) (1.2.0)\n",
            "Requirement already satisfied: pyparsing!=3.0.5,>=2.0.2 in /usr/local/lib/python3.8/dist-packages (from packaging->onnxconverter-common>=1.7.0->skl2onnx) (3.0.9)\n",
            "Installing collected packages: protobuf, onnx, onnxconverter-common, skl2onnx\n",
            "  Attempting uninstall: protobuf\n",
            "    Found existing installation: protobuf 3.19.6\n",
            "    Uninstalling protobuf-3.19.6:\n",
            "      Successfully uninstalled protobuf-3.19.6\n",
            "\u001b[31mERROR: pip's dependency resolver does not currently take into account all the packages that are installed. This behaviour is the source of the following dependency conflicts.\n",
            "tensorflow 2.9.2 requires protobuf<3.20,>=3.9.2, but you have protobuf 3.20.3 which is incompatible.\n",
            "tensorboard 2.9.1 requires protobuf<3.20,>=3.9.2, but you have protobuf 3.20.3 which is incompatible.\u001b[0m\u001b[31m\n",
            "\u001b[0mSuccessfully installed onnx-1.13.0 onnxconverter-common-1.13.0 protobuf-3.20.3 skl2onnx-1.13\n"
          ]
        }
      ]
    },
    {
      "cell_type": "code",
      "source": [
        "import onnxruntime as rt \n",
        "from sklearn.datasets import load_boston\n",
        "from sklearn.model_selection import train_test_split\n",
        "from sklearn.linear_model import LinearRegression\n",
        "from skl2onnx import convert_sklearn\n",
        "from skl2onnx.common.data_types import FloatTensorType\n",
        "\n",
        "\n",
        "# загружаем данные\n",
        "X, y = load_boston(return_X_y=True)\n",
        "X_train, X_test, y_train, y_test = train_test_split(X, y, random_state=7)\n",
        "print(X_train.shape, X_test.shape)"
      ],
      "metadata": {
        "colab": {
          "base_uri": "https://localhost:8080/"
        },
        "id": "ubF3VKx_liFO",
        "outputId": "577c8bc0-32c6-4675-ca39-5d87d315672e"
      },
      "execution_count": null,
      "outputs": [
        {
          "output_type": "stream",
          "name": "stdout",
          "text": [
            "(379, 13) (127, 13)\n"
          ]
        },
        {
          "output_type": "stream",
          "name": "stderr",
          "text": [
            "/usr/local/lib/python3.8/dist-packages/sklearn/utils/deprecation.py:87: FutureWarning: Function load_boston is deprecated; `load_boston` is deprecated in 1.0 and will be removed in 1.2.\n",
            "\n",
            "    The Boston housing prices dataset has an ethical problem. You can refer to\n",
            "    the documentation of this function for further details.\n",
            "\n",
            "    The scikit-learn maintainers therefore strongly discourage the use of this\n",
            "    dataset unless the purpose of the code is to study and educate about\n",
            "    ethical issues in data science and machine learning.\n",
            "\n",
            "    In this special case, you can fetch the dataset from the original\n",
            "    source::\n",
            "\n",
            "        import pandas as pd\n",
            "        import numpy as np\n",
            "\n",
            "\n",
            "        data_url = \"http://lib.stat.cmu.edu/datasets/boston\"\n",
            "        raw_df = pd.read_csv(data_url, sep=\"\\s+\", skiprows=22, header=None)\n",
            "        data = np.hstack([raw_df.values[::2, :], raw_df.values[1::2, :2]])\n",
            "        target = raw_df.values[1::2, 2]\n",
            "\n",
            "    Alternative datasets include the California housing dataset (i.e.\n",
            "    :func:`~sklearn.datasets.fetch_california_housing`) and the Ames housing\n",
            "    dataset. You can load the datasets as follows::\n",
            "\n",
            "        from sklearn.datasets import fetch_california_housing\n",
            "        housing = fetch_california_housing()\n",
            "\n",
            "    for the California housing dataset and::\n",
            "\n",
            "        from sklearn.datasets import fetch_openml\n",
            "        housing = fetch_openml(name=\"house_prices\", as_frame=True)\n",
            "\n",
            "    for the Ames housing dataset.\n",
            "    \n",
            "  warnings.warn(msg, category=FutureWarning)\n"
          ]
        }
      ]
    },
    {
      "cell_type": "code",
      "source": [
        "# обучаем модель\n",
        "model = LinearRegression()\n",
        "model.fit(X_train, y_train)"
      ],
      "metadata": {
        "colab": {
          "base_uri": "https://localhost:8080/"
        },
        "id": "LsuK_fC-mngg",
        "outputId": "b27fed58-83f1-4cb3-c3e6-315286027332"
      },
      "execution_count": null,
      "outputs": [
        {
          "output_type": "execute_result",
          "data": {
            "text/plain": [
              "LinearRegression()"
            ]
          },
          "metadata": {},
          "execution_count": 55
        }
      ]
    },
    {
      "cell_type": "code",
      "source": [
        "X_train"
      ],
      "metadata": {
        "id": "miLaZEO7npCY"
      },
      "execution_count": null,
      "outputs": []
    },
    {
      "cell_type": "code",
      "source": [
        "# делаем инференс моделью на тесте\n",
        "test_pred = model.predict(X_test)\n",
        "print('sklearn model predict:\\n', test_pred)"
      ],
      "metadata": {
        "id": "11GaS_eimwo8"
      },
      "execution_count": null,
      "outputs": []
    },
    {
      "cell_type": "code",
      "source": [
        "# конвертируем модель в ONNX-формат\n",
        "from skl2onnx import convert_sklearn\n",
        "initial_type = [('float_input', FloatTensorType([None, 13]))]\n",
        "model_onnx = convert_sklearn(model, initial_types=initial_type)"
      ],
      "metadata": {
        "id": "TlMZ28rLm6US"
      },
      "execution_count": null,
      "outputs": []
    },
    {
      "cell_type": "code",
      "source": [
        "# сохраняем модель в файл\n",
        "with open(\"model.onnx\", \"wb\") as f:\n",
        "\tf.write(model_onnx.SerializeToString())"
      ],
      "metadata": {
        "id": "je3M_-25ov-w"
      },
      "execution_count": null,
      "outputs": []
    },
    {
      "cell_type": "code",
      "source": [
        "# Делаем инференс на тесте через ONNX-runtime\n",
        "sess = rt.InferenceSession(\"model.onnx\")\n",
        "input_name = sess.get_inputs()[0].name\n",
        "label_name = sess.get_outputs()[0].name\n",
        "test_pred_onnx = sess.run([label_name],\n",
        "                \t{input_name:  X_test.astype(np.float32)})[0].reshape(-1)\n",
        "print('onnx model predict:\\n',test_pred_onnx)"
      ],
      "metadata": {
        "colab": {
          "base_uri": "https://localhost:8080/"
        },
        "id": "2Rw1xHZqo5vh",
        "outputId": "d6543376-8de3-44b4-ac92-5d2ad2aebc47"
      },
      "execution_count": null,
      "outputs": [
        {
          "output_type": "stream",
          "name": "stdout",
          "text": [
            "onnx model predict:\n",
            " [23.190351  18.979858  19.825487  19.001259   4.395239  11.9023\n",
            " 21.2487    28.644491  29.035498  13.906446   6.414221  32.65357\n",
            " 18.998844  20.015694  37.152752  22.804852  29.045296  33.042007\n",
            " 10.486018  24.454721  21.330692  27.602219  37.521187  13.611357\n",
            "  9.564424  15.033682  35.597557  26.010174  25.5243    27.063213\n",
            " 19.076801  30.547466  31.275612  16.401329  39.76707   20.272642\n",
            " 18.949343  17.122097  21.62628   28.151012  26.952927  19.143528\n",
            " 14.506642  25.780756  18.504599  13.934391  24.965929  19.124313\n",
            " 20.678047   6.2380714 27.714602  26.746176  11.833615  40.108547\n",
            " 14.665232  22.120237  20.343056  20.378616  23.566854  21.915827\n",
            " 20.797482  35.431236  17.325922  20.920773  24.167416  43.381996\n",
            " 19.597473  20.116247  22.354626  28.125067  25.538322  12.889493\n",
            " 13.155264  33.309242  26.126667  22.541353  12.144042  16.61972\n",
            " 28.52703   17.819328  24.426376  27.698248  23.052965  24.440285\n",
            " 27.232338  30.42106   24.047182  19.887442  31.131605  21.41108\n",
            " 19.8868    36.865013  37.916252  24.005133  25.648743  12.439672\n",
            " 28.950743   9.827087  13.945932  28.307217  20.43657   15.315475\n",
            " 15.477488  19.940605  21.700748  15.339991  12.401495  25.679935\n",
            " 24.758247  21.43766   16.756308  26.017641  18.916138  21.26036\n",
            "  8.957512  24.862852  14.202119  28.989876  18.379957  20.401695\n",
            " 17.112255  24.559662  24.811527  36.537598  14.720098  33.432762\n",
            " 21.598475 ]\n"
          ]
        }
      ]
    },
    {
      "cell_type": "markdown",
      "source": [],
      "metadata": {
        "id": "AltBAxuAp_CC"
      }
    },
    {
      "cell_type": "code",
      "source": [
        "# всё вместе\n",
        "import onnxruntime as rt \n",
        "from sklearn.datasets import load_boston\n",
        "from sklearn.model_selection import train_test_split\n",
        "from sklearn.linear_model import LinearRegression\n",
        "from skl2onnx import convert_sklearn\n",
        "from skl2onnx.common.data_types import FloatTensorType\n",
        "\n",
        "\n",
        "# загружаем данные\n",
        "X, y = load_boston(return_X_y=True)\n",
        "X_train, X_test, y_train, y_test = train_test_split(X, y, random_state=7)\n",
        "print(X_train.shape, X_test.shape)\n",
        "\n",
        "# обучаем модель\n",
        "model = LinearRegression()\n",
        "model.fit(X_train, y_train)\n",
        "\n",
        "# делаем инференс моделью на тесте\n",
        "test_pred = model.predict(X_test)\n",
        "print('sklearn model predict:\\n', test_pred)\n",
        "\n",
        "# конвертируем модель в ONNX-формат\n",
        "initial_type = [('float_input', FloatTensorType([None, 13]))]\n",
        "model_onnx = convert_sklearn(model, initial_types=initial_type)\n",
        "\n",
        "# сохраняем модель в файл\n",
        "with open(\"model.onnx\", \"wb\") as f:\n",
        "\tf.write(model_onnx.SerializeToString())\n",
        " \t \n",
        "# Делаем инференс на тесте через ONNX-runtime\n",
        "sess = rt.InferenceSession(\"model.onnx\")\n",
        "input_name = sess.get_inputs()[0].name\n",
        "label_name = sess.get_outputs()[0].name\n",
        "test_pred_onnx = sess.run([label_name],\n",
        "                \t{input_name:  X_test.astype(np.float32)})[0].reshape(-1)\n",
        "print('onnx model predict:\\n',test_pred_onnx)"
      ],
      "metadata": {
        "colab": {
          "base_uri": "https://localhost:8080/"
        },
        "id": "bhCD4JZvliIE",
        "outputId": "47bf35cc-0017-4962-af05-6038d96eede8"
      },
      "execution_count": null,
      "outputs": [
        {
          "output_type": "stream",
          "name": "stdout",
          "text": [
            "(379, 13) (127, 13)\n",
            "sklearn model predict:\n",
            " [23.1903541  18.97985889 19.82548836 19.00126197  4.39524325 11.90230303\n",
            " 21.24870187 28.64449553 29.03550064 13.90644782  6.41422339 32.65356658\n",
            " 18.99884691 20.01569489 37.15275422 22.80485488 29.04529555 33.04200949\n",
            " 10.48602033 24.45472284 21.33069324 27.60222354 37.52118276 13.6113556\n",
            "  9.56442243 15.03368415 35.5975585  26.01017573 25.52430154 27.06321433\n",
            " 19.07680237 30.54746571 31.27561168 16.40132981 39.76707419 20.27263903\n",
            " 18.94934061 17.12210014 21.6262832  28.15101424 26.95292863 19.14352801\n",
            " 14.50664721 25.78075705 18.50460146 13.93439214 24.96593139 19.12431756\n",
            " 20.6780475   6.23807397 27.71460362 26.74617711 11.83361779 40.10855118\n",
            " 14.66523328 22.12023896 20.34305401 20.3786179  23.56685605 21.91582872\n",
            " 20.79748126 35.43123681 17.32592458 20.92077502 24.1674162  43.38199388\n",
            " 19.59747681 20.11624895 22.35462757 28.12506906 25.53832602 12.88949504\n",
            " 13.1552648  33.3092473  26.12666965 22.54135443 12.14404271 16.61972119\n",
            " 28.52703363 17.81932988 24.42637646 27.69824683 23.05296655 24.4402857\n",
            " 27.23233855 30.4210596  24.04718434 19.88744242 31.13160771 21.41108091\n",
            " 19.88680529 36.86501486 37.91625512 24.00513438 25.64874538 12.43967316\n",
            " 28.95074601  9.82709099 13.94593323 28.30721693 20.43657045 15.31547598\n",
            " 15.47748826 19.9406056  21.70074992 15.33999115 12.4014992  25.67993384\n",
            " 24.75824916 21.43766149 16.75630786 26.01764392 18.91613898 21.260363\n",
            "  8.95751196 24.86285128 14.20211854 28.98987716 18.37995946 20.40169618\n",
            " 17.11225855 24.55966354 24.81152897 36.53760221 14.72009878 33.43276192\n",
            " 21.59847763]\n",
            "onnx model predict:\n",
            " [23.190351  18.979858  19.825487  19.001259   4.395239  11.9023\n",
            " 21.2487    28.644491  29.035498  13.906446   6.414221  32.65357\n",
            " 18.998844  20.015694  37.152752  22.804852  29.045296  33.042007\n",
            " 10.486018  24.454721  21.330692  27.602219  37.521187  13.611357\n",
            "  9.564424  15.033682  35.597557  26.010174  25.5243    27.063213\n",
            " 19.076801  30.547466  31.275612  16.401329  39.76707   20.272642\n",
            " 18.949343  17.122097  21.62628   28.151012  26.952927  19.143528\n",
            " 14.506642  25.780756  18.504599  13.934391  24.965929  19.124313\n",
            " 20.678047   6.2380714 27.714602  26.746176  11.833615  40.108547\n",
            " 14.665232  22.120237  20.343056  20.378616  23.566854  21.915827\n",
            " 20.797482  35.431236  17.325922  20.920773  24.167416  43.381996\n",
            " 19.597473  20.116247  22.354626  28.125067  25.538322  12.889493\n",
            " 13.155264  33.309242  26.126667  22.541353  12.144042  16.61972\n",
            " 28.52703   17.819328  24.426376  27.698248  23.052965  24.440285\n",
            " 27.232338  30.42106   24.047182  19.887442  31.131605  21.41108\n",
            " 19.8868    36.865013  37.916252  24.005133  25.648743  12.439672\n",
            " 28.950743   9.827087  13.945932  28.307217  20.43657   15.315475\n",
            " 15.477488  19.940605  21.700748  15.339991  12.401495  25.679935\n",
            " 24.758247  21.43766   16.756308  26.017641  18.916138  21.26036\n",
            "  8.957512  24.862852  14.202119  28.989876  18.379957  20.401695\n",
            " 17.112255  24.559662  24.811527  36.537598  14.720098  33.432762\n",
            " 21.598475 ]\n"
          ]
        },
        {
          "output_type": "stream",
          "name": "stderr",
          "text": [
            "/usr/local/lib/python3.8/dist-packages/sklearn/utils/deprecation.py:87: FutureWarning: Function load_boston is deprecated; `load_boston` is deprecated in 1.0 and will be removed in 1.2.\n",
            "\n",
            "    The Boston housing prices dataset has an ethical problem. You can refer to\n",
            "    the documentation of this function for further details.\n",
            "\n",
            "    The scikit-learn maintainers therefore strongly discourage the use of this\n",
            "    dataset unless the purpose of the code is to study and educate about\n",
            "    ethical issues in data science and machine learning.\n",
            "\n",
            "    In this special case, you can fetch the dataset from the original\n",
            "    source::\n",
            "\n",
            "        import pandas as pd\n",
            "        import numpy as np\n",
            "\n",
            "\n",
            "        data_url = \"http://lib.stat.cmu.edu/datasets/boston\"\n",
            "        raw_df = pd.read_csv(data_url, sep=\"\\s+\", skiprows=22, header=None)\n",
            "        data = np.hstack([raw_df.values[::2, :], raw_df.values[1::2, :2]])\n",
            "        target = raw_df.values[1::2, 2]\n",
            "\n",
            "    Alternative datasets include the California housing dataset (i.e.\n",
            "    :func:`~sklearn.datasets.fetch_california_housing`) and the Ames housing\n",
            "    dataset. You can load the datasets as follows::\n",
            "\n",
            "        from sklearn.datasets import fetch_california_housing\n",
            "        housing = fetch_california_housing()\n",
            "\n",
            "    for the California housing dataset and::\n",
            "\n",
            "        from sklearn.datasets import fetch_openml\n",
            "        housing = fetch_openml(name=\"house_prices\", as_frame=True)\n",
            "\n",
            "    for the Ames housing dataset.\n",
            "    \n",
            "  warnings.warn(msg, category=FutureWarning)\n"
          ]
        }
      ]
    },
    {
      "cell_type": "markdown",
      "source": [
        "## **5. Деплой модели. Протоколы сетевого взаимодействия**"
      ],
      "metadata": {
        "id": "rNvGUZooqbeK"
      }
    },
    {
      "cell_type": "markdown",
      "source": [
        "Завтра Василию предстоит защищать решение перед руководителями проекта, а для этого нужно показать работающий прототип (в нашем случае — задеплоить модель на тестовый сервер) и рассказать об эффективности предлагаемого решения. За деплоем Василий обратился к вам."
      ],
      "metadata": {
        "id": "K0r8QicUv42-"
      }
    },
    {
      "cell_type": "markdown",
      "source": [
        "### *МОДЕЛИ СЕТЕВОГО ВЗАИМОДЕЙСТВИЯ*"
      ],
      "metadata": {
        "id": "RScPwMOZwDxx"
      }
    },
    {
      "cell_type": "markdown",
      "source": [
        "Наиболее известные модели сетевого взаимодействия — OSI и TCP/IP."
      ],
      "metadata": {
        "id": "kdhcOSkcwMBx"
      }
    },
    {
      "cell_type": "markdown",
      "source": [
        "**IP** — протокол сетевого уровня. Он определяет путь, по которому передаются данные.\n",
        "\n",
        "**TCP** — соответствует транспортному уровню, а значит, определяет, как передаются данные.\n",
        "\n",
        "**HTTP** — относится к прикладному уровню, описывающему взаимодействие приложений с сетью."
      ],
      "metadata": {
        "id": "jBFyEBlQ2KMg"
      }
    },
    {
      "cell_type": "markdown",
      "source": [
        "**IP**\n",
        "\n",
        "IP (Internet Protocol) — один из главных протоколов сетевого взаимодействия. Он отвечает за маршрутизацию трафика по сети, то есть определяет путь, по которому отправятся данные. Данные передаются пакетами (или датаграммами), которые формирует протокол IP."
      ],
      "metadata": {
        "id": "Ipn5-u1e3XVZ"
      }
    },
    {
      "cell_type": "markdown",
      "source": [
        "Уникальность IP-адреса может быть глобальной (в рамках всего интернета) или локальной (в рамках локальной подсети). Некоторые IP-адреса не являются общедоступными и зарезервированы для специальных целей, например диапазоны IP-адресов:\n",
        "\n",
        "127.0.0.1–127.255.255.255\tиспользуются для связи внутри локальной машины (localhost)\n",
        "\n",
        "172.16.0.1–172.31.255.255\tиспользуются для частных подсетей (недоступных из интернета)\n",
        "\n",
        "198.18.0.1–198.19.255.254\tиспользуются для тестирования производительности"
      ],
      "metadata": {
        "id": "jT1rSacT2s_t"
      }
    },
    {
      "cell_type": "markdown",
      "source": [
        "**localhost** — зарезервированное доменное имя для IP-адресов из диапазона 127.0.0.1–127.255.255.255 (в сети из одного компьютера — для 127.0.0.1)."
      ],
      "metadata": {
        "id": "57kYJGcy3cIs"
      }
    },
    {
      "cell_type": "markdown",
      "source": [
        "**TCP**\n",
        "\n",
        "TCP (Transmission Control Protocol) — протокол транспортного уровня. Он отвечает за управление передачей данных и гарантирует:\n",
        "\n",
        "доставку пакетов (посылает пакеты повторно, если они не были доставлены);\n",
        "последовательность и целостность доставки пакетов (используя нумерацию и контрольные суммы для проверки);\n",
        "устраняет дубликаты в случае необходимости."
      ],
      "metadata": {
        "id": "YQ_eCDz13xfL"
      }
    },
    {
      "cell_type": "markdown",
      "source": [
        "*Важной особенностью TCP* является то, что перед отправкой данных он «устанавливает соединение» с получателем — обменивается управляющей информацией. После отправки пакетов источник ждёт подтверждения от получателя, что пакеты были доставлены."
      ],
      "metadata": {
        "id": "J92RbaZf4U-c"
      }
    },
    {
      "cell_type": "markdown",
      "source": [
        "Обычно на одном узле сети (сервере, компьютере) работают несколько приложений/процессов одновременно. Для идентификации приложения на источнике и получателе используется порт, который задаётся целым неотрицательным числом. Процесс или приложение могут зарезервировать у ОС определённый порт, например, для передачи данных по сети.\n",
        "\n",
        "Порты разделяют на **системные (0–1023), и пользовательские (1024–49151)**. Некоторые номера портов определены для конкретных приложений, например:\n",
        "\n",
        "22 — протокол SSH для безопасной передачи данных;\n",
        "\n",
        "25 — протокол SMTP для незащищённой передачи e-mail-сообщений;\n",
        "\n",
        "80 — протокол HTTP.\n"
      ],
      "metadata": {
        "id": "xAerUJGs4uvF"
      }
    },
    {
      "cell_type": "markdown",
      "source": [
        "**Например**, если приложение доступно по адресу 172.16.0.11:8001, это значит следующее:\n",
        "\n",
        "172.16.0.11 — IP-адрес;\n",
        "8001 — TCP-порт, отведённый приложению."
      ],
      "metadata": {
        "id": "tFpNEtJu5DTE"
      }
    },
    {
      "cell_type": "markdown",
      "source": [
        "**HTTP**\n",
        "\n",
        "HTTP — это наиболее широко используемый протокол. Все сайты, на которые вы заходите, работают по этому протоколу. Он был разработан именно для передачи содержимого HTML-страниц в интернете, но впоследствии стал использоваться и для других целей. Например, HTTP применяется для налаживания взаимодействия между сервисами в сложных системах. Этим он нам и интересен.\n",
        "\n",
        "Итак, **HTTP** — это протокол, который работает по принципу клиент-сервер."
      ],
      "metadata": {
        "id": "3AtNkB597DRd"
      }
    },
    {
      "cell_type": "markdown",
      "source": [
        "Запрос состоит из трёх частей.\n",
        "\n",
        "***Стартовая строка, или Request Line*** — по ней определяется вид запроса.\n",
        "\n",
        "***Заголовки запроса, или Request Headers***  — дополнительные параметры запроса, в которых обычно передаётся служебная информация, например в каком формате ожидается ответ или информация о клиенте.\n",
        "\n",
        "***Тело запроса, или Request Message Body*** — содержит данные для передачи. Эта часть присутствует не всегда."
      ],
      "metadata": {
        "id": "Jdwe6r4U8C8D"
      }
    },
    {
      "cell_type": "markdown",
      "source": [
        "**Основные методы:**\n",
        "\n",
        "GET — обычно означает получение содержимого ресурса и не содержит тела.\n",
        "\n",
        "Например, когда вы заходите в каталог интернет-магазина, вы получаете страницу с товарами — ваш браузер отправляет GET-запрос на сервер интернет-магазина.\n",
        "\n",
        "POST — наоборот, передача данных ресурсу.\n",
        "\n",
        "Например, когда вы заполняете форму авторизации на любом сайте и нажимаете кнопку для отправки своих данных, вы совершаете POST-запрос на сервер ресурса.\n",
        "\n",
        "PUT — обновление ресурса.\n",
        "DELETE — удаление ресурса."
      ],
      "metadata": {
        "id": "j0VwCpiW8Zub"
      }
    },
    {
      "cell_type": "markdown",
      "source": [
        "404 — это как раз код состояния, означающий, что ресурса с заданным URI не существует на сервере.\n",
        "\n",
        "**Группы кодов состояния ответа HTTP-сервера делятся на следующие группы:**\n",
        "\n",
        "информационные (100–199);\n",
        "\n",
        "успешно (200–299);\n",
        "\n",
        "перенаправление (300–399);\n",
        "\n",
        "ошибка клиента (400–499);\n",
        "\n",
        "ошибка сервера (500–599)."
      ],
      "metadata": {
        "id": "gHM_43w_9RWz"
      }
    },
    {
      "cell_type": "markdown",
      "source": [
        "**REST (REPRESENTATIONAL STATE TRANSFER)**\n",
        "\n",
        "Он даёт более верхнеуровневые указания, чем HTTP-протокол, а именно:\n",
        "\n",
        "как правильно организовывать адресацию к ресурсам;\n",
        "\n",
        "какие методы у этих ресурсов должны быть;\n",
        "\n",
        "какой ожидается результат."
      ],
      "metadata": {
        "id": "ZPW5l4PKA4Yl"
      }
    },
    {
      "cell_type": "markdown",
      "source": [
        "Основная концепция философии REST заключается в том, что клиентом RESTful-сервера может быть что/кто угодно: браузер, другое приложение, разработчик. Веб-приложение, спроектированное по правилам REST, предоставляет информацию о себе в форме информации о своих ресурсах."
      ],
      "metadata": {
        "id": "nNO2AnmWCDjq"
      }
    },
    {
      "cell_type": "markdown",
      "source": [
        "Ресурс может быть любым объектом, о котором сервер предоставляет информацию. Например, в API Instagram ресурсом может быть пользователь, фотография, хэштег. Каждая единица информации (ресурс) однозначно определяется URL.\n",
        "\n",
        "GET-запрос /rest/users — получение информации обо всех пользователях.\n",
        "\n",
        "GET-запрос /rest/users/125 — получение информации о пользователе с id=125.\n",
        "\n",
        "POST-запрос /rest/users — добавление нового пользователя.\n",
        "\n",
        "PUT-запрос /rest/users/125 — изменение информации о пользователе с id=125.\n",
        "\n",
        "DELETE-запрос /rest/users/125 — удаление пользователя с id=125."
      ],
      "metadata": {
        "id": "9iH91jveCFoW"
      }
    },
    {
      "cell_type": "markdown",
      "source": [
        "## **6. Деплой модели. Обзор фреймворков**"
      ],
      "metadata": {
        "id": "JxfiM7cgCNsE"
      }
    },
    {
      "cell_type": "markdown",
      "source": [
        "**FLASK**\n",
        "\n",
        "Flask позиционируется как микрофреймворк для написания легковесных сервисов, но при этом он достаточно гибкий и кастомизируемый, что позволяет использовать его в проектах любой сложности. Как и все остальные фреймворки, он работает на основе маршрутизации запросов, приходящих на сервер, который и должен обработать эти запросы."
      ],
      "metadata": {
        "id": "rs9kfviVGYVQ"
      }
    },
    {
      "cell_type": "markdown",
      "source": [
        "В случае с Flask маршрутизация выглядит как обычные функции Python, которые вы помечаете специальным декоратором **@app.route**."
      ],
      "metadata": {
        "id": "4E6iIwWQGpKw"
      }
    },
    {
      "cell_type": "markdown",
      "source": [
        "для написания минимально функционального сервера достаточно добавить в скрипт всего несколько строк: необходимые импорты, создание Flask-приложения, декоратор, который свяжет адрес (endpoint, **эндпоинт)** с функцией, и запуск приложения. "
      ],
      "metadata": {
        "id": "Rdls_PdkHyC7"
      }
    },
    {
      "cell_type": "markdown",
      "source": [
        "**DJANGO**"
      ],
      "metadata": {
        "id": "wbq9CaLxH2qV"
      }
    },
    {
      "cell_type": "markdown",
      "source": [
        "В отличие от Flask, Django нельзя назвать микрофреймворком. Напротив, даже минимальный проект для Django обычно генерируется специальными скриптами и включает с десяток файлов и папок."
      ],
      "metadata": {
        "id": "cKpQ0cMkH9pv"
      }
    },
    {
      "cell_type": "markdown",
      "source": [
        "Django используют, когда нужно что-то посерьёзней, например целые сайты с базами данных."
      ],
      "metadata": {
        "id": "On0QlxHpIGTF"
      }
    },
    {
      "cell_type": "markdown",
      "source": [
        "*ПРЕИМУЩЕСТВА DJANGO:*"
      ],
      "metadata": {
        "id": "6qLo5ZZwIJBv"
      }
    },
    {
      "cell_type": "markdown",
      "source": [
        "Мощный движок для рендера HTML-страниц, основанный на шаблонах.\n",
        "\n",
        "Собственный ORM.\n",
        "\n",
        "Огромное количество дополнительных плагинов. Один из них практически так же популярен, как и сам Django — речь о Django Rest Framework. Основываясь на ORM, он позволяет в несколько строк реализовывать эндпоинты протокола RESTful. Сам Django Rest Framework также имеет множество расширений. Благодаря этому написание сложного проекта можно свести в составлению правильной модели данных, установке и настройке подходящих расширений."
      ],
      "metadata": {
        "id": "99QhwWjlIg-o"
      }
    },
    {
      "cell_type": "markdown",
      "source": [
        "**FLASK VS DJANGO**"
      ],
      "metadata": {
        "id": "kmsS3aOOIkox"
      }
    },
    {
      "cell_type": "markdown",
      "source": [
        " Django, вы оставляете проект со всей экосистемой Django, и что-то изменить впоследствии будет трудно. Выбирая Flask, вы получаете систему, построенную из блоков, каждый из которых проще заменить."
      ],
      "metadata": {
        "id": "PgQU-XV7JhyZ"
      }
    },
    {
      "cell_type": "markdown",
      "source": [
        "**FASTAPI**"
      ],
      "metadata": {
        "id": "yH9pb3tSJkJP"
      }
    },
    {
      "cell_type": "markdown",
      "source": [
        "Основное нововведение в FastAPI — интеграция библиотеки pydantic, которая позволяет декларативно описывать структуры запросов."
      ],
      "metadata": {
        "id": "6vgdRElRKPpz"
      }
    },
    {
      "cell_type": "markdown",
      "source": [
        "## **7. Пишем сервер на Flask**"
      ],
      "metadata": {
        "id": "qGsk7rfxKyrd"
      }
    },
    {
      "cell_type": "markdown",
      "source": [
        "**ЧАСТЬ I. ИНИЦИАЛИЗАЦИЯ ВЕБ-ПРИЛОЖЕНИЯ**"
      ],
      "metadata": {
        "id": "F11n5Dp7LcAn"
      }
    }
  ]
}